{
 "cells": [
  {
   "cell_type": "markdown",
   "metadata": {},
   "source": [
    "#### FINM 33150 - Regression analysis and quantitative trading strategies\n",
    "<br>\n",
    "\n",
    "## Quantitative Trading Project\n",
    "<br>\n",
    "\n",
    "### A k-means clustering pair selection approach for pairs trading\n",
    "<br>\n",
    "\n",
    "#### Author: Diego A. Diaz\n",
    "#### Student ID: 12248985"
   ]
  },
  {
   "cell_type": "markdown",
   "metadata": {},
   "source": [
    "<br>\n",
    "\n",
    "#### Abstract\n",
    "\n",
    "We develop a pair trading strategy that checks the displacement of prices of related electronically traded equities from multiple sectors and bets that the displacement will tend to reduce itself. This bet translates to a strategy of taking long positions on the equity with the lower returns and long positions on the equity with the higher returns, and repeating the same process for each pair. We propose a method of selecting pairs by applying an unsupervised machine learning method, K-means clustering, based on 5 variables of fundamentals from the Zacks Fundamentals Collection from Quandl and yearly returns from end of day prices, and later picking the 50 pairs with highest pearson correlations. After selecting pairs to trade, we implement a spread-reversion strategy that begins on the first day of each month, trades during the month, and closes positions at the end of each month if there are any open ones. We backtest the strategy from the start of 2019 to the end of 2020 and obtain a 6% return on investment per pair on average. In total we place 798 spread positions (one short and one long for each) among our pairs, and obtain a total sharpe ratio of -0.025. Average profit per pair was $3.759."
   ]
  },
  {
   "cell_type": "markdown",
   "metadata": {},
   "source": [
    "<br><br>\n",
    "*Note*: We present our quantitative trading strategy in this Jupyter notebook, which includes the code to run to download the data and execute the strategy. Due to the long execution time of the data gathering process, we also include the data as a separate file along with this notebook, therefore allowing reviewers ir other researchers to execute backtests faster or try modifications of the strategy with the same or a selected subset of the pairs.\n",
    "Only straighforward and function calls are included in this notebook, as the important mechanics of the strategy are included in the supplemental file **util.py**, which is imported in this notebook as a library. \n",
    "\n",
    "<br>\n",
    "\n",
    "#### 1. Introduction\n",
    "\n",
    "<br>\n",
    "\n",
    "A pair trading strategy is well regarded by many hedge funds due to the fact that it's considered to be market neutral, which means that it can be expected to perform similarly and generate returns that are, to a large extent, independent of current market's trends. The key to the strategy is convergence in returns in selected pairs, which allows a trader to buy a relatively undervalued security and sell a relatively overvalued one for a profit upon convergence (Sarmento & Horta, 2020). One of the problems with more modern iterations of this strategy is that it has gotten progressively harder to find useful pairs, leading many researchers and traders to attempt to come up with data driven ways to select pairs, often borrowing methods from machine learning.\n",
    "\n",
    "<br>\n",
    "\n",
    "Before diving deeper into the details, to give some background about the strategy, it started being used in the mid-1980s by a group assembled by Wall Street quant Nunzio Tartaglia. Their programs identified pairs of securities that moved together, and a spread arbitrage strategy made their company $50 million dollars in profit in 1987 alone. In one of the seminal papers in the subject, Gatev et al. (2006), the authors backtest a simple pairs trading strategy with end of day equity prices through the period 1962-2002, choosing pairs of stocks by minimizing the distance between normalized historical prices. The authors examine the robustness of the results to a variety of risk factors like the bid-ask bounce, short-selling costs, and transaction costs. Although these factors affect the magnitude of the excess returns, their pair trading strategy remains profitable for reasonable assumptions in an out of sample period of 4 years.\n",
    "\n",
    "<br>\n",
    "\n",
    "There are many different approaches when it comes to choosing pairs for a pair trading strategy. Understanding the theory behind the strategy is necessary for choosing better performing pairs and increasing returns, and one of the key concepts is to view asset prices in relative terms and not as in absolute terms as a discounted future cash flow. In a relative pricing context, two securities that are close subtitutes for each other will sell for the same price, which led to develop the Law of One Price (LOP). The LOP states that two investments that have the same payoff in every possible state of nature, will have the same current value (Ingersoll, 1987). Sustained in the LOP, Gatev et al. (2006) set to find pairs that are \"integrated\" in the sense that they behave by the LOP, establishing the criterion that \"they have had the same or nearly the same state prices historically\". This approach translates into minimizing the historic sum of squared distances between two assets' price series. Mathematically, \n",
    "\n",
    "<br>\n",
    "\n",
    "$$\\overline{s s d}_{P_{i} P_{j}}=\\frac{1}{T} \\sum t=1^{T}\\left(p_{i, t}-p_{j, t}\\right)^{2}$$\n",
    "\n",
    "<br>\n",
    "\n",
    "Where $p_{i,t}$ is the price of asset $i$ at time $j$. A more modern approach to pair selection is the one implemented by Sarmento & Horta (2020), which is a principal component analysis (PCA) based on the price time series. In their paper, the authors focus on two issues. 1st: How to find profitable pairs while constraining the search space, and 2nd: How to avoid long decline periods due to prolonged divergent pairs. Although efforts in using machine learning techniques for pair selection have proved promising, they remain for the most part unexplored, and more research is still necessary to develop theories. The difficulty is in finding pairs without too much exposure to the adversities of the common pairs searching techniques. An alternative first step is to limit the universe of available stocks to securities within a sector, but that limits the availity to find stocks being traded in small volumes, reducing potential profits. Allowing for different sectors, the quantitative trader might be left with an excessive number of combinations and many spurious relations (Sarmento & Horta, 2020).\n",
    "\n",
    "<br>\n",
    "\n",
    "In this paper we apply an unsupervised machine learning method for pairs selection, starting from a broad universe of equities. We attempt to mix three different approaches from the literature. 1st, as in Sarmento & Horta (2020), we implement an unsupervised machine learning method for the selection of pairs, and do not limit the strategy to only look for pairs within the same sectors. We do however attempt a different machine learning method (K-means clustering instead of PCA) and use different data than the authors. 2nd, we use Pearson correlations as a selection metric to pick higher correlated pairs from the clusters. Using Pearson correlations for pair selection, without the previous ML step, is something that has been done by Chen et al. (2019). 3rd, we implement a standard mean reversion strategy as in Gatev et al. (2006), which can be summarized in the following steps:\n",
    "\n",
    "1st: Calculate the pair's spread as $\\left.S_{t}=Y_{t}-X_{t}\\right)$ during the period. \n",
    "2nd: Define the model thresholds: the threshold that triggers a long position, $\\alpha_{L}$, the threshold that triggers a short position, $\\alpha_{S}$, and the exit threshold, $\\alpha_{\\text {exit }}$, that defines the level at which a position should be exited. \n",
    "3rd: iii Monitor the evolution of the spread, $S_{t}$, and control if any threshold is crossed. iv In case $\\alpha_{L}$ is crossed, go long the spread by buying $Y$ and selling $X$. If $\\alpha_{S}$ is crossed, short the spread by selling $Y$ and buying $X$. Exit position when $\\alpha_{\\text {exit }}$ is crossed.\n",
    "\n",
    "<br>\n",
    "\n",
    "The structure of the paper is as follows. In section 2 we explain the first step of the first selection process, a K-means approach to form clusters of equities. We show the entire process, from data gathering to algorithm implementation, finalizing with an output consisting of clusters of equities of any size. In section 3 we show and explain the next and final step in the pair selection process, based on Pearson correlation coefficients. In section 4 we develop our spread trading strategy with the selected pairs from the previous section. In section 5 we analyze our results and discuss. Section 6 concludes.\n",
    "\n",
    "<br>\n",
    "\n",
    "The steps of our quantitative trading strategy can be summarized in the following diagram:\n",
    "\n",
    "<br>\n",
    "\n",
    "![Steps in our quantitative trading strategy](steps_finm.png \"Steps in our quantitative trading strategy\")\n",
    "\n",
    "<br>"
   ]
  },
  {
   "cell_type": "markdown",
   "metadata": {},
   "source": [
    "<br>\n",
    "\n",
    "#### 2. First step of pair selection: K-means clustering\n",
    "\n",
    "<br>\n",
    "<br>\n",
    "\n",
    "K-means clustering is an unsupervised machine learning method of vector quantization. Unlabeled data is fed to a classifier that forms K different groups, to which each data point is then assigned such that each and every point belongs to a group. The objective of the algorithm is to reduce the total within-cluster variation, which means minimizing the distance from the points to the centroid of each cluster. \n",
    "\n",
    "<br>\n",
    "\n",
    "The method starts by assigning each data point to a cluster, calculating the mean of these points (also called a centroid) and calculating the squared distances from each point to the mean. The process is iterated by reassigning points to other clusters until the within-cluster variation can not be reduced.\n",
    "\n",
    "<br>\n",
    "\n",
    "To apply the method we gather data from two different sources with the constraint that it is strongly dependent on at least one class of information besides prices, volumes and Fama-French factors. We opt to use fundamental data on different measures which we describe next:\n",
    "\n",
    "<br>\n",
    "\n",
    "**Source 1**: Zacks Fundamentals Collection from Quandl (ZACKS/FC) - This table contains over 200 fundamental indicators for over 19,500 companies, including over 9,000 delisted stocks. \n",
    "\n",
    "From ZACKS/FC we obtain 5 variables to feed to our algorithm. These are:\n",
    "\n",
    "-  Total number of employees (emp_cnt)\n",
    "-  Basic net earnings per share (basic_net_eps): Company's net earnings or losses attributable to common shareholders per basic share basis.\n",
    "-  Earnings before interest, taxes, depreciation, and amortization (EBITDA): Income before interest, taxes, depreciation and amortization. \n",
    "-  Comprehensive income (compr_income)\n",
    "-  Net income loss (net_income_loss)\n",
    "\n",
    "<br>\n",
    "\n",
    "**Source 2**: Zacks End of Day US Stock Prices (EOD). \n",
    "\n",
    "-  One year returns (calculated from daily closing prices)\n",
    "\n",
    "<br>\n",
    "\n",
    "**Approach:**\n",
    "\n",
    "<br>\n",
    "\n",
    "-  We obtain all US stocks traded in the NASDAQ and NYSE that have data for the 5 mentioned variables of ZACKS/FC. \n",
    "-  With this group, download EOD prices since december 2018 to the end of 2020, which will be our backtesting period. \n",
    "-  Estimate yearly returns of all stocks in group and join with ZACKS/FC data, obtaining a matrix with 6 variables: employees, eps, ebitda, income, income loss, and yearly returns.\n",
    "-  Form clusters with K-mean clustering. We have to pick the K number of clusters un this step, for which we pick 1000 clusters.\n",
    "\n"
   ]
  },
  {
   "cell_type": "markdown",
   "metadata": {},
   "source": [
    "#### 2.1 Code section: Getting Zachs data\n",
    "\n",
    "<br>\n",
    "\n",
    "We write several helper functions to download the data. Zachs fundamental data come from quarterly and annual reports. In order to make sure we get data for the most amount of companies as possible, we download all quarterly reports for a given year and the anual report and calculate the averages of each variable, obtaining one value for each variable for each company. We only keep tickers that have values for all 5 variables after taking averages.\n",
    "\n",
    "Note: We put the source code on the attached file **util.py**, which contains helper functions and classes necessary to execute the trading strategy in this notebook. The code sections on this technical paper contain a minimum amount of source code but what we expect is enough to understand what it is we are doing so the reader can check the supplemental material if he or she wants to know more.\n",
    "\n",
    "For each section of code that the reader wants to review, go to the corresponding section in **util.py**, which follows the same section numbering.\n",
    "\n",
    "<br>\n"
   ]
  },
  {
   "cell_type": "markdown",
   "metadata": {},
   "source": [
    "#### We import the libraries that we will need to execute the code in this notebook:"
   ]
  },
  {
   "cell_type": "code",
   "execution_count": 696,
   "metadata": {},
   "outputs": [],
   "source": [
    "%matplotlib inline\n",
    "from util import *"
   ]
  },
  {
   "cell_type": "markdown",
   "metadata": {},
   "source": [
    "Next block downloads Zachs data but takes several minutes to execute.\n",
    "\n",
    "Note that we add progress bars to keep track of the progress to check if we need to interrupt processes."
   ]
  },
  {
   "cell_type": "code",
   "execution_count": 663,
   "metadata": {},
   "outputs": [
    {
     "data": {
      "application/vnd.jupyter.widget-view+json": {
       "model_id": "f8f9068a2ace49a2b8601403cdd46f11",
       "version_major": 2,
       "version_minor": 0
      },
      "text/plain": [
       "  0%|          | 0/38 [00:00<?, ?it/s]"
      ]
     },
     "metadata": {},
     "output_type": "display_data"
    },
    {
     "data": {
      "text/html": [
       "<div>\n",
       "<style scoped>\n",
       "    .dataframe tbody tr th:only-of-type {\n",
       "        vertical-align: middle;\n",
       "    }\n",
       "\n",
       "    .dataframe tbody tr th {\n",
       "        vertical-align: top;\n",
       "    }\n",
       "\n",
       "    .dataframe thead th {\n",
       "        text-align: right;\n",
       "    }\n",
       "</style>\n",
       "<table border=\"1\" class=\"dataframe\">\n",
       "  <thead>\n",
       "    <tr style=\"text-align: right;\">\n",
       "      <th></th>\n",
       "      <th>AA</th>\n",
       "      <th>AAL</th>\n",
       "      <th>AAME</th>\n",
       "      <th>AAOI</th>\n",
       "      <th>AAP</th>\n",
       "      <th>AAPL</th>\n",
       "      <th>AAT</th>\n",
       "      <th>AAWW</th>\n",
       "      <th>ABB</th>\n",
       "      <th>ABBV</th>\n",
       "      <th>ABC</th>\n",
       "      <th>ABEV</th>\n",
       "      <th>ABG</th>\n",
       "      <th>ABIO</th>\n",
       "      <th>ABMD</th>\n",
       "      <th>ABR</th>\n",
       "      <th>ABT</th>\n",
       "      <th>ABUS</th>\n",
       "      <th>AC</th>\n",
       "    </tr>\n",
       "  </thead>\n",
       "  <tbody>\n",
       "    <tr>\n",
       "      <th>zacks_sector_code</th>\n",
       "      <td>7.000</td>\n",
       "      <td>15.000</td>\n",
       "      <td>13.0000</td>\n",
       "      <td>10.0000</td>\n",
       "      <td>3.00000</td>\n",
       "      <td>10.000</td>\n",
       "      <td>13.0000</td>\n",
       "      <td>15.00000</td>\n",
       "      <td>7.000</td>\n",
       "      <td>4.000</td>\n",
       "      <td>4.00000</td>\n",
       "      <td>1.000000</td>\n",
       "      <td>3.00000</td>\n",
       "      <td>4.00000</td>\n",
       "      <td>4.0000</td>\n",
       "      <td>13.0000</td>\n",
       "      <td>4.00</td>\n",
       "      <td>4.0000</td>\n",
       "      <td>13.0000</td>\n",
       "    </tr>\n",
       "    <tr>\n",
       "      <th>emp_cnt</th>\n",
       "      <td>14600.000</td>\n",
       "      <td>103100.000</td>\n",
       "      <td>159.0000</td>\n",
       "      <td>3054.0000</td>\n",
       "      <td>71000.00000</td>\n",
       "      <td>132000.000</td>\n",
       "      <td>194.0000</td>\n",
       "      <td>2870.00000</td>\n",
       "      <td>134800.000</td>\n",
       "      <td>29000.000</td>\n",
       "      <td>21000.00000</td>\n",
       "      <td>51432.000000</td>\n",
       "      <td>8000.00000</td>\n",
       "      <td>20.00000</td>\n",
       "      <td>1143.0000</td>\n",
       "      <td>445.0000</td>\n",
       "      <td>99000.00</td>\n",
       "      <td>130.0000</td>\n",
       "      <td>71.0000</td>\n",
       "    </tr>\n",
       "    <tr>\n",
       "      <th>basic_net_eps</th>\n",
       "      <td>0.222</td>\n",
       "      <td>1.362</td>\n",
       "      <td>0.0520</td>\n",
       "      <td>0.8980</td>\n",
       "      <td>2.79000</td>\n",
       "      <td>1.199</td>\n",
       "      <td>0.2100</td>\n",
       "      <td>3.89200</td>\n",
       "      <td>0.418</td>\n",
       "      <td>1.628</td>\n",
       "      <td>3.04200</td>\n",
       "      <td>0.070000</td>\n",
       "      <td>3.01000</td>\n",
       "      <td>-9.24468</td>\n",
       "      <td>1.3600</td>\n",
       "      <td>0.5080</td>\n",
       "      <td>0.15</td>\n",
       "      <td>-0.6140</td>\n",
       "      <td>0.0560</td>\n",
       "    </tr>\n",
       "    <tr>\n",
       "      <th>ebitda</th>\n",
       "      <td>900.400</td>\n",
       "      <td>1794.400</td>\n",
       "      <td>6.8626</td>\n",
       "      <td>29.4358</td>\n",
       "      <td>333.34764</td>\n",
       "      <td>32720.400</td>\n",
       "      <td>73.7534</td>\n",
       "      <td>189.02034</td>\n",
       "      <td>1134.600</td>\n",
       "      <td>4668.800</td>\n",
       "      <td>805.39132</td>\n",
       "      <td>2454.299800</td>\n",
       "      <td>141.09988</td>\n",
       "      <td>-5.80600</td>\n",
       "      <td>73.9150</td>\n",
       "      <td>71.1254</td>\n",
       "      <td>2419.00</td>\n",
       "      <td>-28.6650</td>\n",
       "      <td>-7.0264</td>\n",
       "    </tr>\n",
       "    <tr>\n",
       "      <th>compr_income</th>\n",
       "      <td>-4920.200</td>\n",
       "      <td>-5174.000</td>\n",
       "      <td>0.5386</td>\n",
       "      <td>8.4064</td>\n",
       "      <td>-29.34340</td>\n",
       "      <td>-2784.800</td>\n",
       "      <td>12.7750</td>\n",
       "      <td>-4.22380</td>\n",
       "      <td>-4475.400</td>\n",
       "      <td>-2656.400</td>\n",
       "      <td>-76.07400</td>\n",
       "      <td>-20080.966667</td>\n",
       "      <td>0.82000</td>\n",
       "      <td>-0.00200</td>\n",
       "      <td>-8.3004</td>\n",
       "      <td>0.0880</td>\n",
       "      <td>-6355.80</td>\n",
       "      <td>-48.1874</td>\n",
       "      <td>6.7120</td>\n",
       "    </tr>\n",
       "    <tr>\n",
       "      <th>net_income_loss</th>\n",
       "      <td>538.600</td>\n",
       "      <td>512.800</td>\n",
       "      <td>0.2576</td>\n",
       "      <td>33.3196</td>\n",
       "      <td>342.54080</td>\n",
       "      <td>43684.000</td>\n",
       "      <td>20.2576</td>\n",
       "      <td>101.29040</td>\n",
       "      <td>1720.000</td>\n",
       "      <td>5136.000</td>\n",
       "      <td>1331.90760</td>\n",
       "      <td>1825.218420</td>\n",
       "      <td>105.84000</td>\n",
       "      <td>-10.20200</td>\n",
       "      <td>105.9844</td>\n",
       "      <td>78.5742</td>\n",
       "      <td>847.40</td>\n",
       "      <td>-47.8808</td>\n",
       "      <td>-6.2488</td>\n",
       "    </tr>\n",
       "  </tbody>\n",
       "</table>\n",
       "</div>"
      ],
      "text/plain": [
       "                          AA         AAL      AAME       AAOI          AAP  \\\n",
       "zacks_sector_code      7.000      15.000   13.0000    10.0000      3.00000   \n",
       "emp_cnt            14600.000  103100.000  159.0000  3054.0000  71000.00000   \n",
       "basic_net_eps          0.222       1.362    0.0520     0.8980      2.79000   \n",
       "ebitda               900.400    1794.400    6.8626    29.4358    333.34764   \n",
       "compr_income       -4920.200   -5174.000    0.5386     8.4064    -29.34340   \n",
       "net_income_loss      538.600     512.800    0.2576    33.3196    342.54080   \n",
       "\n",
       "                         AAPL       AAT        AAWW         ABB       ABBV  \\\n",
       "zacks_sector_code      10.000   13.0000    15.00000       7.000      4.000   \n",
       "emp_cnt            132000.000  194.0000  2870.00000  134800.000  29000.000   \n",
       "basic_net_eps           1.199    0.2100     3.89200       0.418      1.628   \n",
       "ebitda              32720.400   73.7534   189.02034    1134.600   4668.800   \n",
       "compr_income        -2784.800   12.7750    -4.22380   -4475.400  -2656.400   \n",
       "net_income_loss     43684.000   20.2576   101.29040    1720.000   5136.000   \n",
       "\n",
       "                           ABC          ABEV         ABG      ABIO       ABMD  \\\n",
       "zacks_sector_code      4.00000      1.000000     3.00000   4.00000     4.0000   \n",
       "emp_cnt            21000.00000  51432.000000  8000.00000  20.00000  1143.0000   \n",
       "basic_net_eps          3.04200      0.070000     3.01000  -9.24468     1.3600   \n",
       "ebitda               805.39132   2454.299800   141.09988  -5.80600    73.9150   \n",
       "compr_income         -76.07400 -20080.966667     0.82000  -0.00200    -8.3004   \n",
       "net_income_loss     1331.90760   1825.218420   105.84000 -10.20200   105.9844   \n",
       "\n",
       "                        ABR       ABT      ABUS       AC  \n",
       "zacks_sector_code   13.0000      4.00    4.0000  13.0000  \n",
       "emp_cnt            445.0000  99000.00  130.0000  71.0000  \n",
       "basic_net_eps        0.5080      0.15   -0.6140   0.0560  \n",
       "ebitda              71.1254   2419.00  -28.6650  -7.0264  \n",
       "compr_income         0.0880  -6355.80  -48.1874   6.7120  \n",
       "net_income_loss     78.5742    847.40  -47.8808  -6.2488  "
      ]
     },
     "execution_count": 663,
     "metadata": {},
     "output_type": "execute_result"
    }
   ],
   "source": [
    "data_zachs = execute_zachs_download()\n",
    "data_zachs"
   ]
  },
  {
   "cell_type": "code",
   "execution_count": 429,
   "metadata": {},
   "outputs": [
    {
     "data": {
      "text/plain": [
       "(6, 2390)"
      ]
     },
     "execution_count": 429,
     "metadata": {},
     "output_type": "execute_result"
    }
   ],
   "source": [
    "data_zachs.shape"
   ]
  },
  {
   "cell_type": "markdown",
   "metadata": {},
   "source": [
    "As we can see, we get data for 2390 different equities from Zachs/FC.\n",
    "\n",
    "Code is included in the source code to save and load the data for faster access to avoid running repeatedly the parts of the code that take longer to execute."
   ]
  },
  {
   "cell_type": "code",
   "execution_count": 676,
   "metadata": {},
   "outputs": [],
   "source": [
    "#we load the pickle of zachs data in case we are working on a different session\n",
    "#run this block if you want to access the data without downloading with execute_zachs_download() \n",
    "data_zachs = load_zachs()"
   ]
  },
  {
   "cell_type": "markdown",
   "metadata": {},
   "source": [
    "#### 2.2 Code section: Download daily close prices to get returns\n",
    "\n",
    "Next we download code to download daily equity closing prices for all equities available from previous step (equities with Zachs fundamental data)"
   ]
  },
  {
   "cell_type": "code",
   "execution_count": 666,
   "metadata": {},
   "outputs": [
    {
     "data": {
      "application/vnd.jupyter.widget-view+json": {
       "model_id": "3728b390ced146eab4c9494421bbd1d1",
       "version_major": 2,
       "version_minor": 0
      },
      "text/plain": [
       "  0%|          | 0/18 [00:00<?, ?it/s]"
      ]
     },
     "metadata": {},
     "output_type": "display_data"
    }
   ],
   "source": [
    "# This blocks downloads the data, takes several minutes to download all 2390 equities.\n",
    "prices = get_prices(data_zachs.columns)"
   ]
  },
  {
   "cell_type": "code",
   "execution_count": 433,
   "metadata": {},
   "outputs": [
    {
     "data": {
      "text/plain": [
       "(524, 2390)"
      ]
     },
     "execution_count": 433,
     "metadata": {},
     "output_type": "execute_result"
    }
   ],
   "source": [
    "prices.shape"
   ]
  },
  {
   "cell_type": "markdown",
   "metadata": {},
   "source": [
    "As we can see, we obtained data for all 2390 equities that we had from the previous step."
   ]
  },
  {
   "cell_type": "code",
   "execution_count": 677,
   "metadata": {},
   "outputs": [],
   "source": [
    "#we load the pickle of EOD data in case we are working on a different session\n",
    "#run this block if you want to access the data without downloading\n",
    "prices = load_prices()"
   ]
  },
  {
   "cell_type": "markdown",
   "metadata": {},
   "source": [
    "The final data processing step in this section is to add yearly returns, for which we use one of our helper funtions. "
   ]
  },
  {
   "cell_type": "code",
   "execution_count": 678,
   "metadata": {
    "scrolled": false
   },
   "outputs": [
    {
     "data": {
      "text/html": [
       "<div>\n",
       "<style scoped>\n",
       "    .dataframe tbody tr th:only-of-type {\n",
       "        vertical-align: middle;\n",
       "    }\n",
       "\n",
       "    .dataframe tbody tr th {\n",
       "        vertical-align: top;\n",
       "    }\n",
       "\n",
       "    .dataframe thead th {\n",
       "        text-align: right;\n",
       "    }\n",
       "</style>\n",
       "<table border=\"1\" class=\"dataframe\">\n",
       "  <thead>\n",
       "    <tr style=\"text-align: right;\">\n",
       "      <th></th>\n",
       "      <th>AA</th>\n",
       "      <th>AAL</th>\n",
       "      <th>AAME</th>\n",
       "      <th>AAOI</th>\n",
       "      <th>AAP</th>\n",
       "      <th>AAPL</th>\n",
       "      <th>AAT</th>\n",
       "      <th>AAWW</th>\n",
       "      <th>ABB</th>\n",
       "      <th>ABBV</th>\n",
       "      <th>...</th>\n",
       "      <th>ZEPP</th>\n",
       "      <th>ZG</th>\n",
       "      <th>ZGNX</th>\n",
       "      <th>ZKIN</th>\n",
       "      <th>ZLAB</th>\n",
       "      <th>ZNGA</th>\n",
       "      <th>ZNH</th>\n",
       "      <th>ZTO</th>\n",
       "      <th>ZTS</th>\n",
       "      <th>ZYME</th>\n",
       "    </tr>\n",
       "  </thead>\n",
       "  <tbody>\n",
       "    <tr>\n",
       "      <th>zacks_sector_code</th>\n",
       "      <td>7.000000</td>\n",
       "      <td>15.000000</td>\n",
       "      <td>13.000000</td>\n",
       "      <td>10.000000</td>\n",
       "      <td>3.000000</td>\n",
       "      <td>10.000000</td>\n",
       "      <td>13.000000</td>\n",
       "      <td>15.000000</td>\n",
       "      <td>7.000000</td>\n",
       "      <td>4.000000</td>\n",
       "      <td>...</td>\n",
       "      <td>4.000000</td>\n",
       "      <td>10.000000</td>\n",
       "      <td>4.000000</td>\n",
       "      <td>6.000000</td>\n",
       "      <td>4.000000</td>\n",
       "      <td>2.000000</td>\n",
       "      <td>15.000000</td>\n",
       "      <td>15.000000</td>\n",
       "      <td>4.000000</td>\n",
       "      <td>4.000000</td>\n",
       "    </tr>\n",
       "    <tr>\n",
       "      <th>emp_cnt</th>\n",
       "      <td>14600.000000</td>\n",
       "      <td>103100.000000</td>\n",
       "      <td>159.000000</td>\n",
       "      <td>3054.000000</td>\n",
       "      <td>71000.000000</td>\n",
       "      <td>132000.000000</td>\n",
       "      <td>194.000000</td>\n",
       "      <td>2870.000000</td>\n",
       "      <td>134800.000000</td>\n",
       "      <td>29000.000000</td>\n",
       "      <td>...</td>\n",
       "      <td>416.000000</td>\n",
       "      <td>3181.000000</td>\n",
       "      <td>68.000000</td>\n",
       "      <td>377.000000</td>\n",
       "      <td>88.000000</td>\n",
       "      <td>1555.000000</td>\n",
       "      <td>96234.000000</td>\n",
       "      <td>16023.000000</td>\n",
       "      <td>9200.000000</td>\n",
       "      <td>147.000000</td>\n",
       "    </tr>\n",
       "    <tr>\n",
       "      <th>basic_net_eps</th>\n",
       "      <td>0.222000</td>\n",
       "      <td>1.362000</td>\n",
       "      <td>0.052000</td>\n",
       "      <td>0.898000</td>\n",
       "      <td>2.790000</td>\n",
       "      <td>1.199000</td>\n",
       "      <td>0.210000</td>\n",
       "      <td>3.892000</td>\n",
       "      <td>0.418000</td>\n",
       "      <td>1.628000</td>\n",
       "      <td>...</td>\n",
       "      <td>0.228000</td>\n",
       "      <td>-0.208000</td>\n",
       "      <td>-1.720000</td>\n",
       "      <td>0.520000</td>\n",
       "      <td>-2.320000</td>\n",
       "      <td>0.012000</td>\n",
       "      <td>2.406667</td>\n",
       "      <td>0.314000</td>\n",
       "      <td>0.832000</td>\n",
       "      <td>-0.172000</td>\n",
       "    </tr>\n",
       "    <tr>\n",
       "      <th>ebitda</th>\n",
       "      <td>900.400000</td>\n",
       "      <td>1794.400000</td>\n",
       "      <td>6.862600</td>\n",
       "      <td>29.435800</td>\n",
       "      <td>333.347640</td>\n",
       "      <td>32720.400000</td>\n",
       "      <td>73.753400</td>\n",
       "      <td>189.020340</td>\n",
       "      <td>1134.600000</td>\n",
       "      <td>4668.800000</td>\n",
       "      <td>...</td>\n",
       "      <td>41.068750</td>\n",
       "      <td>-14.646400</td>\n",
       "      <td>-53.089200</td>\n",
       "      <td>10.025400</td>\n",
       "      <td>-50.920900</td>\n",
       "      <td>21.377400</td>\n",
       "      <td>1434.251333</td>\n",
       "      <td>263.008620</td>\n",
       "      <td>822.200000</td>\n",
       "      <td>-2.279800</td>\n",
       "    </tr>\n",
       "    <tr>\n",
       "      <th>compr_income</th>\n",
       "      <td>-4920.200000</td>\n",
       "      <td>-5174.000000</td>\n",
       "      <td>0.538600</td>\n",
       "      <td>8.406400</td>\n",
       "      <td>-29.343400</td>\n",
       "      <td>-2784.800000</td>\n",
       "      <td>12.775000</td>\n",
       "      <td>-4.223800</td>\n",
       "      <td>-4475.400000</td>\n",
       "      <td>-2656.400000</td>\n",
       "      <td>...</td>\n",
       "      <td>8.546333</td>\n",
       "      <td>-1.318000</td>\n",
       "      <td>-0.046000</td>\n",
       "      <td>-0.127500</td>\n",
       "      <td>0.449900</td>\n",
       "      <td>-92.141000</td>\n",
       "      <td>0.000000</td>\n",
       "      <td>-20.397800</td>\n",
       "      <td>-520.200000</td>\n",
       "      <td>-6.659000</td>\n",
       "    </tr>\n",
       "    <tr>\n",
       "      <th>net_income_loss</th>\n",
       "      <td>538.600000</td>\n",
       "      <td>512.800000</td>\n",
       "      <td>0.257600</td>\n",
       "      <td>33.319600</td>\n",
       "      <td>342.540800</td>\n",
       "      <td>43684.000000</td>\n",
       "      <td>20.257600</td>\n",
       "      <td>101.290400</td>\n",
       "      <td>1720.000000</td>\n",
       "      <td>5136.000000</td>\n",
       "      <td>...</td>\n",
       "      <td>10.272200</td>\n",
       "      <td>-50.258200</td>\n",
       "      <td>-88.902400</td>\n",
       "      <td>7.101550</td>\n",
       "      <td>-50.384100</td>\n",
       "      <td>15.696600</td>\n",
       "      <td>437.784000</td>\n",
       "      <td>194.206000</td>\n",
       "      <td>777.000000</td>\n",
       "      <td>-22.984600</td>\n",
       "    </tr>\n",
       "    <tr>\n",
       "      <th>year_returns</th>\n",
       "      <td>-0.380031</td>\n",
       "      <td>-0.304437</td>\n",
       "      <td>-0.412334</td>\n",
       "      <td>-0.515292</td>\n",
       "      <td>-0.142596</td>\n",
       "      <td>0.458624</td>\n",
       "      <td>0.162291</td>\n",
       "      <td>-0.547872</td>\n",
       "      <td>0.148198</td>\n",
       "      <td>-0.021511</td>\n",
       "      <td>...</td>\n",
       "      <td>0.039269</td>\n",
       "      <td>0.113903</td>\n",
       "      <td>0.051927</td>\n",
       "      <td>-0.351759</td>\n",
       "      <td>1.054918</td>\n",
       "      <td>0.709589</td>\n",
       "      <td>-0.123266</td>\n",
       "      <td>0.219388</td>\n",
       "      <td>0.291801</td>\n",
       "      <td>2.269891</td>\n",
       "    </tr>\n",
       "  </tbody>\n",
       "</table>\n",
       "<p>7 rows × 2358 columns</p>\n",
       "</div>"
      ],
      "text/plain": [
       "                             AA            AAL        AAME         AAOI  \\\n",
       "zacks_sector_code      7.000000      15.000000   13.000000    10.000000   \n",
       "emp_cnt            14600.000000  103100.000000  159.000000  3054.000000   \n",
       "basic_net_eps          0.222000       1.362000    0.052000     0.898000   \n",
       "ebitda               900.400000    1794.400000    6.862600    29.435800   \n",
       "compr_income       -4920.200000   -5174.000000    0.538600     8.406400   \n",
       "net_income_loss      538.600000     512.800000    0.257600    33.319600   \n",
       "year_returns          -0.380031      -0.304437   -0.412334    -0.515292   \n",
       "\n",
       "                            AAP           AAPL         AAT         AAWW  \\\n",
       "zacks_sector_code      3.000000      10.000000   13.000000    15.000000   \n",
       "emp_cnt            71000.000000  132000.000000  194.000000  2870.000000   \n",
       "basic_net_eps          2.790000       1.199000    0.210000     3.892000   \n",
       "ebitda               333.347640   32720.400000   73.753400   189.020340   \n",
       "compr_income         -29.343400   -2784.800000   12.775000    -4.223800   \n",
       "net_income_loss      342.540800   43684.000000   20.257600   101.290400   \n",
       "year_returns          -0.142596       0.458624    0.162291    -0.547872   \n",
       "\n",
       "                             ABB          ABBV  ...        ZEPP           ZG  \\\n",
       "zacks_sector_code       7.000000      4.000000  ...    4.000000    10.000000   \n",
       "emp_cnt            134800.000000  29000.000000  ...  416.000000  3181.000000   \n",
       "basic_net_eps           0.418000      1.628000  ...    0.228000    -0.208000   \n",
       "ebitda               1134.600000   4668.800000  ...   41.068750   -14.646400   \n",
       "compr_income        -4475.400000  -2656.400000  ...    8.546333    -1.318000   \n",
       "net_income_loss      1720.000000   5136.000000  ...   10.272200   -50.258200   \n",
       "year_returns            0.148198     -0.021511  ...    0.039269     0.113903   \n",
       "\n",
       "                        ZGNX        ZKIN       ZLAB         ZNGA  \\\n",
       "zacks_sector_code   4.000000    6.000000   4.000000     2.000000   \n",
       "emp_cnt            68.000000  377.000000  88.000000  1555.000000   \n",
       "basic_net_eps      -1.720000    0.520000  -2.320000     0.012000   \n",
       "ebitda            -53.089200   10.025400 -50.920900    21.377400   \n",
       "compr_income       -0.046000   -0.127500   0.449900   -92.141000   \n",
       "net_income_loss   -88.902400    7.101550 -50.384100    15.696600   \n",
       "year_returns        0.051927   -0.351759   1.054918     0.709589   \n",
       "\n",
       "                            ZNH           ZTO          ZTS        ZYME  \n",
       "zacks_sector_code     15.000000     15.000000     4.000000    4.000000  \n",
       "emp_cnt            96234.000000  16023.000000  9200.000000  147.000000  \n",
       "basic_net_eps          2.406667      0.314000     0.832000   -0.172000  \n",
       "ebitda              1434.251333    263.008620   822.200000   -2.279800  \n",
       "compr_income           0.000000    -20.397800  -520.200000   -6.659000  \n",
       "net_income_loss      437.784000    194.206000   777.000000  -22.984600  \n",
       "year_returns          -0.123266      0.219388     0.291801    2.269891  \n",
       "\n",
       "[7 rows x 2358 columns]"
      ]
     },
     "execution_count": 678,
     "metadata": {},
     "output_type": "execute_result"
    }
   ],
   "source": [
    "final = combine_zachs_prices(data_zachs, prices)\n",
    "final"
   ]
  },
  {
   "cell_type": "markdown",
   "metadata": {},
   "source": [
    "Missing data was removed when consolidating the data, which is why 32 equities were lost. Total number of equities is now 2358."
   ]
  },
  {
   "cell_type": "markdown",
   "metadata": {},
   "source": [
    "#### 2.3 Code section: K-means clustering\n",
    "\n",
    "\n",
    "Here we implement a K-means clustering algorithm to form clusters of similar stocks based on the gathered data. Note that we included sector code in the data above, however, we don't include it when performing the clustering as it is a categorical variable and do not needed to apply the algorithm. \n",
    "\n",
    "We show the 10 clusters with the highest number of stocks in them. \n"
   ]
  },
  {
   "cell_type": "code",
   "execution_count": 685,
   "metadata": {
    "scrolled": true
   },
   "outputs": [
    {
     "name": "stdout",
     "output_type": "stream",
     "text": [
      "848    78\n",
      "578    51\n",
      "368    51\n",
      "851    46\n",
      "134    40\n",
      "502    30\n",
      "834    29\n",
      "571    26\n",
      "513    26\n",
      "656    26\n",
      "Name: Clusters, dtype: int64\n"
     ]
    }
   ],
   "source": [
    "df, cluster_counts = kmeans_clustering(final)"
   ]
  },
  {
   "cell_type": "markdown",
   "metadata": {},
   "source": [
    "Next, we form every possible pair with equities within each cluster, leaving out clusters that have less than 2 equities as we can't form pairs with them."
   ]
  },
  {
   "cell_type": "code",
   "execution_count": 687,
   "metadata": {},
   "outputs": [
    {
     "data": {
      "application/vnd.jupyter.widget-view+json": {
       "model_id": "7636f13378564279be9f4b420c7b2777",
       "version_major": 2,
       "version_minor": 0
      },
      "text/plain": [
       "  0%|          | 0/273 [00:00<?, ?it/s]"
      ]
     },
     "metadata": {},
     "output_type": "display_data"
    },
    {
     "data": {
      "text/plain": [
       "[('ABIO', 'ACET'),\n",
       " ('ABIO', 'ACTG'),\n",
       " ('ABIO', 'AKTX'),\n",
       " ('ABIO', 'ALBO'),\n",
       " ('ABIO', 'ALDX'),\n",
       " ('ABIO', 'ALRN'),\n",
       " ('ABIO', 'APTO'),\n",
       " ('ABIO', 'AVCO'),\n",
       " ('ABIO', 'AVEO'),\n",
       " ('ABIO', 'AZRX')]"
      ]
     },
     "execution_count": 687,
     "metadata": {},
     "output_type": "execute_result"
    }
   ],
   "source": [
    "pairs = get_combinations_of_pairs(cluster_counts, df)\n",
    "pairs[:10]"
   ]
  },
  {
   "cell_type": "code",
   "execution_count": 691,
   "metadata": {},
   "outputs": [
    {
     "data": {
      "text/plain": [
       "14838"
      ]
     },
     "execution_count": 691,
     "metadata": {},
     "output_type": "execute_result"
    }
   ],
   "source": [
    "len(pairs)"
   ]
  },
  {
   "cell_type": "markdown",
   "metadata": {},
   "source": [
    "(Note that we can get slightly different clusters and number of pairs on different executions)"
   ]
  },
  {
   "cell_type": "code",
   "execution_count": 771,
   "metadata": {},
   "outputs": [],
   "source": [
    "#only execute this code if you need to load the pairs\n",
    "#pairs = load_pairs()"
   ]
  },
  {
   "cell_type": "markdown",
   "metadata": {},
   "source": [
    "<br>\n",
    "\n",
    "#### 3. Second step of pair selection: Pearson correlation coefficient sorting\n",
    "\n",
    "<br>\n",
    "<br>\n",
    "\n",
    "On their paper, Chen et al. (2017) backtested a pair trading strategy in which they chose 50 pairs with the highest Pearson correlation coefficients from historical returns. They identified stocks that tended to move closely in a period of 5 years and checked if price divergences on a given month were closed in the future, as their trading strategy was executed on a monthly basis. The authors found that betting on the convergence generates six-factor (market, size, book-to-market, momentum, short-term reversal, and liquidity) alphas of up to 9% annually for a value-weighted self-financing portfolio. \n",
    "\n",
    "In this section we incorporate the authors approach to pair selection to complement our machine learning approach, picking pairs with the highest Pearson correlations out of the clusters obtained by K-means clustering.\n",
    "\n",
    "<br>\n"
   ]
  },
  {
   "cell_type": "markdown",
   "metadata": {},
   "source": [
    "#### 3.1 Code section: Calculating Pearson coefficient\n",
    "\n",
    "From the previous step, we have 14,838 potential pairs to trade. This is too many, even more so considering that trading one pair means to be ready to take both a long and short position at the same time, so if we traded 14,838 pairs, the maximum amount of opened positions at any one time would be 29,676.\n",
    "\n",
    "After ranking the pairs we will keep drop the ones whose Pearson coefficient is too high (above 0.95), as that happens usually when we have tickers that represent different class of shares by same company and may have trading restrictions that we haven't accounted for.\n",
    "\n",
    "After that, following Chen et al. (2017), we will keep the 50 pairs with higher Pearson coefficients to continue with our trading strategy.\n",
    "\n",
    "<br>\n"
   ]
  },
  {
   "cell_type": "code",
   "execution_count": 693,
   "metadata": {},
   "outputs": [
    {
     "data": {
      "application/vnd.jupyter.widget-view+json": {
       "model_id": "fe7e13c801c146a1ac18a7d49db3f4cf",
       "version_major": 2,
       "version_minor": 0
      },
      "text/plain": [
       "  0%|          | 0/14838 [00:00<?, ?it/s]"
      ]
     },
     "metadata": {},
     "output_type": "display_data"
    },
    {
     "data": {
      "text/html": [
       "<div>\n",
       "<style scoped>\n",
       "    .dataframe tbody tr th:only-of-type {\n",
       "        vertical-align: middle;\n",
       "    }\n",
       "\n",
       "    .dataframe tbody tr th {\n",
       "        vertical-align: top;\n",
       "    }\n",
       "\n",
       "    .dataframe thead th {\n",
       "        text-align: right;\n",
       "    }\n",
       "</style>\n",
       "<table border=\"1\" class=\"dataframe\">\n",
       "  <thead>\n",
       "    <tr style=\"text-align: right;\">\n",
       "      <th></th>\n",
       "      <th>pair</th>\n",
       "      <th>pearson_corr</th>\n",
       "    </tr>\n",
       "  </thead>\n",
       "  <tbody>\n",
       "    <tr>\n",
       "      <th>0</th>\n",
       "      <td>(ABIO, ACET)</td>\n",
       "      <td>-0.013173</td>\n",
       "    </tr>\n",
       "    <tr>\n",
       "      <th>1</th>\n",
       "      <td>(ABIO, ACTG)</td>\n",
       "      <td>0.016995</td>\n",
       "    </tr>\n",
       "    <tr>\n",
       "      <th>2</th>\n",
       "      <td>(ABIO, AKTX)</td>\n",
       "      <td>-0.004648</td>\n",
       "    </tr>\n",
       "    <tr>\n",
       "      <th>3</th>\n",
       "      <td>(ABIO, ALBO)</td>\n",
       "      <td>0.047083</td>\n",
       "    </tr>\n",
       "    <tr>\n",
       "      <th>4</th>\n",
       "      <td>(ABIO, ALDX)</td>\n",
       "      <td>0.129323</td>\n",
       "    </tr>\n",
       "  </tbody>\n",
       "</table>\n",
       "</div>"
      ],
      "text/plain": [
       "           pair  pearson_corr\n",
       "0  (ABIO, ACET)     -0.013173\n",
       "1  (ABIO, ACTG)      0.016995\n",
       "2  (ABIO, AKTX)     -0.004648\n",
       "3  (ABIO, ALBO)      0.047083\n",
       "4  (ABIO, ALDX)      0.129323"
      ]
     },
     "execution_count": 693,
     "metadata": {},
     "output_type": "execute_result"
    }
   ],
   "source": [
    "df = calculating_pearson(prices, pairs)\n",
    "df.head()"
   ]
  },
  {
   "cell_type": "code",
   "execution_count": 694,
   "metadata": {
    "scrolled": false
   },
   "outputs": [
    {
     "name": "stdout",
     "output_type": "stream",
     "text": [
      "                 pair  pearson_corr\n",
      "14807   (GOOG, GOOGL)      0.997364\n",
      "14405         (Z, ZG)      0.994611\n",
      "14667  (DISCA, DISCK)      0.984691\n",
      "14676  (LBTYA, LBTYK)      0.984199\n",
      "14766       (UA, UAA)      0.982237\n",
      "14748     (NWS, NWSA)      0.977505\n",
      "14266   (CENT, CENTA)      0.977240\n",
      "14513  (FWONA, FWONK)      0.973279\n",
      "13960     (OHI, SBRA)      0.893488\n",
      "14547      (CPT, UDR)      0.892413\n"
     ]
    }
   ],
   "source": [
    "print(df.sort_values('pearson_corr', ascending=False)[:10])"
   ]
  },
  {
   "cell_type": "markdown",
   "metadata": {},
   "source": [
    "As the first 8 values are stock of the same companies. For example, GOOG and GOOGL are both Google, with the only difference that the GOOG ticker symbol is associated with class C shares, which means that GOOGL shares have voting rights, while GOOG shares don't have any voting rights.\n",
    "\n",
    "We drop the pairs with Pearson coefficients above 0.95 and keep the first 50 pairs after that.\n",
    "\n",
    "<br>"
   ]
  },
  {
   "cell_type": "code",
   "execution_count": 695,
   "metadata": {},
   "outputs": [
    {
     "data": {
      "text/html": [
       "<div>\n",
       "<style scoped>\n",
       "    .dataframe tbody tr th:only-of-type {\n",
       "        vertical-align: middle;\n",
       "    }\n",
       "\n",
       "    .dataframe tbody tr th {\n",
       "        vertical-align: top;\n",
       "    }\n",
       "\n",
       "    .dataframe thead th {\n",
       "        text-align: right;\n",
       "    }\n",
       "</style>\n",
       "<table border=\"1\" class=\"dataframe\">\n",
       "  <thead>\n",
       "    <tr style=\"text-align: right;\">\n",
       "      <th></th>\n",
       "      <th>pair</th>\n",
       "      <th>pearson_corr</th>\n",
       "    </tr>\n",
       "  </thead>\n",
       "  <tbody>\n",
       "    <tr>\n",
       "      <th>13960</th>\n",
       "      <td>(OHI, SBRA)</td>\n",
       "      <td>0.893488</td>\n",
       "    </tr>\n",
       "    <tr>\n",
       "      <th>14547</th>\n",
       "      <td>(CPT, UDR)</td>\n",
       "      <td>0.892413</td>\n",
       "    </tr>\n",
       "    <tr>\n",
       "      <th>14806</th>\n",
       "      <td>(VIAC, VIACA)</td>\n",
       "      <td>0.891144</td>\n",
       "    </tr>\n",
       "    <tr>\n",
       "      <th>14747</th>\n",
       "      <td>(MLM, VMC)</td>\n",
       "      <td>0.887336</td>\n",
       "    </tr>\n",
       "    <tr>\n",
       "      <th>12966</th>\n",
       "      <td>(AKR, KRG)</td>\n",
       "      <td>0.882830</td>\n",
       "    </tr>\n",
       "  </tbody>\n",
       "</table>\n",
       "</div>"
      ],
      "text/plain": [
       "                pair  pearson_corr\n",
       "13960    (OHI, SBRA)      0.893488\n",
       "14547     (CPT, UDR)      0.892413\n",
       "14806  (VIAC, VIACA)      0.891144\n",
       "14747     (MLM, VMC)      0.887336\n",
       "12966     (AKR, KRG)      0.882830"
      ]
     },
     "execution_count": 695,
     "metadata": {},
     "output_type": "execute_result"
    }
   ],
   "source": [
    "selected_pairs = sort_and_select_pairs(df)\n",
    "selected_pairs[:5]"
   ]
  },
  {
   "cell_type": "markdown",
   "metadata": {},
   "source": [
    "<br>\n",
    "\n",
    "#### 4. Spread trading strategy\n",
    "\n",
    "<br>\n",
    "\n",
    "To get trading signals we implement a strategy as in Gatev, Goetzmann, & Rouwenhorst (2006) or as in FINM 33150, Spread Trading assignment, and backtest it in the period 2019-2020. The strategy is simple and consists in the steps outlined in the introduction. We also add a stop loss for each spread position. In more detail, we follow each of the next steps per each pair of the 50 that we got from the previous step: \n",
    "\n",
    "<br>\n",
    "\n",
    "- Calculating m-day returns for each equity \n",
    "- Estimating the pair spread $\\left.S_{t}=Y_{t}-X_{t}\\right)$\n",
    "- Define the thresholds: the threshold that triggers a long position, $\\alpha_{L}$, the threshold that triggers a short position, $\\alpha_{S}$, and the exit threshold, $\\alpha_{\\text {exit }}$, that defines the level at which a position should be exited. For easier implementation we confine our parameters to $\\alpha_{s} = -\\alpha_{L}$.\n",
    "- Monitor if the threshold is crossed. When $\\alpha_{L}$ is crossed, go long the spread by buying $Y$ and selling $X$. If $\\alpha_{S}$ is crossed, short the spread by selling $Y$ and buying $X$. Exit position when $\\alpha_{\\text {exit }}$ is crossed.\n",
    "- Monitor if a stop loss is triggered, defined as a fraction of the position. We'll call this parameter $\\delta$. \n",
    "\n",
    "<br>\n",
    "\n",
    "To determine quantities to trade we estimate daily dollar volume for each equity, compute the running trailing 15-trading-day median of it over our sample period for $X$, and denote that running median (as of any day given $t$ ) for the less liquid of the two ETFs with the expression $N_{t}$.\n",
    "\n",
    "<br>\n",
    "\n",
    "$$\n",
    "N_{t}:=\\operatorname{Median}\\left[\\left\\{V_{t-16}, V_{t-15}, \\ldots, V_{t-1}\\right\\}\\right]\n",
    "$$\n",
    "\n",
    "<br>\n",
    "\n",
    "As in FINM 33150 Assignment 2, our strategy trades equal dollar amounts of $X$ and $Y$ to the nearest integer number of shares, as close as possible to $\\$ N_{t} / 1000$ of each. As $N_{t}$ changes every day, so trade size will depend on which day you open the position. Gross traded cash per pair is therefore roughly $\\$ 2 N_{t} / 1000 .$ We track this number on any open position for stop loss calculations.\n",
    "\n",
    "We set the capital for the strategy to the maximum $\\frac{N_{t}}{50}$ per pair during the data period. Therefore the total capital will be equal to $ \\sum_{n=1}^{50} \\frac{N_t}{50} $.\n",
    "\n",
    "As there is so much variation from the pair selection part of the strategy, we focus on a fix parameter space, choosing the following values for the parameters:\n",
    "\n",
    "- $m\\ days = 1$\n",
    "- $\\alpha_{L} = - \\alpha_{L} = 0.02$\n",
    "- $\\alpha_{exit} = 0.001$\n",
    "- $\\delta = 0.25$\n",
    "\n",
    "Our strategy will begging at the first day of each month, trade during the month, and close any open positions at the end of the month. Since we backtest all through 2019 and 2020, the first possible day for a trade is January 1, 2019, and the last possible day to close a trade is December 31, 2020. We do not allow for more than 1 spread position for each pair, and in case a stop loss is triggered, we don't allow to enter new positions until the start of the next month.\n",
    "\n",
    "<br>"
   ]
  },
  {
   "cell_type": "markdown",
   "metadata": {},
   "source": [
    "#### 4.1 Code section: Implementing the spread trading strategy for a single pair\n",
    "\n",
    "<br>\n",
    "\n",
    "We write several helper functions to download closing day prices for the equities in our pairs from Quandl EOD, estimate m-day log returns, process volumes to determine amount to trade, a spread trading class that will take care of the trading mechanics and keep track of the profits and open positions, functions to determine the first and last day of the month, and functions to calculate the spread of returns for each pair. We also include functions to plot the results and cumulative profit and loss.\n",
    "\n",
    "As in previous sections, we include the source code in the supplemental material and call the functions required to show results here. \n",
    "\n",
    "In case the data for our pairs is not loaded, we load it in the next block:\n",
    "\n",
    "<br>"
   ]
  },
  {
   "cell_type": "code",
   "execution_count": 3,
   "metadata": {},
   "outputs": [],
   "source": [
    "#save_selected_pairs(selected_pairs)\n",
    "selected_pairs = load_selected_pairs()"
   ]
  },
  {
   "cell_type": "markdown",
   "metadata": {},
   "source": [
    "Let's take a look at the spread for the first pair to make sure our calculations are going as expected. Note that we keep track of whether we are on the firs/last day of the month as this is necessary for our trading strategy."
   ]
  },
  {
   "cell_type": "code",
   "execution_count": 697,
   "metadata": {},
   "outputs": [
    {
     "data": {
      "text/html": [
       "<div>\n",
       "<style scoped>\n",
       "    .dataframe tbody tr th:only-of-type {\n",
       "        vertical-align: middle;\n",
       "    }\n",
       "\n",
       "    .dataframe tbody tr th {\n",
       "        vertical-align: top;\n",
       "    }\n",
       "\n",
       "    .dataframe thead th {\n",
       "        text-align: right;\n",
       "    }\n",
       "</style>\n",
       "<table border=\"1\" class=\"dataframe\">\n",
       "  <thead>\n",
       "    <tr style=\"text-align: right;\">\n",
       "      <th></th>\n",
       "      <th>spread</th>\n",
       "      <th>N</th>\n",
       "      <th>OHI</th>\n",
       "      <th>SBRA</th>\n",
       "      <th>first_day</th>\n",
       "      <th>last_day</th>\n",
       "    </tr>\n",
       "    <tr>\n",
       "      <th>Date</th>\n",
       "      <th></th>\n",
       "      <th></th>\n",
       "      <th></th>\n",
       "      <th></th>\n",
       "      <th></th>\n",
       "      <th></th>\n",
       "    </tr>\n",
       "  </thead>\n",
       "  <tbody>\n",
       "    <tr>\n",
       "      <th>2018-12-31</th>\n",
       "      <td>-0.005435</td>\n",
       "      <td>30184459.52</td>\n",
       "      <td>29.200633</td>\n",
       "      <td>13.443808</td>\n",
       "      <td>False</td>\n",
       "      <td>True</td>\n",
       "    </tr>\n",
       "    <tr>\n",
       "      <th>2019-01-02</th>\n",
       "      <td>-0.009542</td>\n",
       "      <td>27898112.14</td>\n",
       "      <td>28.203741</td>\n",
       "      <td>13.109344</td>\n",
       "      <td>True</td>\n",
       "      <td>False</td>\n",
       "    </tr>\n",
       "    <tr>\n",
       "      <th>2019-01-03</th>\n",
       "      <td>-0.024504</td>\n",
       "      <td>27898112.14</td>\n",
       "      <td>28.685572</td>\n",
       "      <td>13.664064</td>\n",
       "      <td>False</td>\n",
       "      <td>False</td>\n",
       "    </tr>\n",
       "  </tbody>\n",
       "</table>\n",
       "</div>"
      ],
      "text/plain": [
       "              spread            N        OHI       SBRA  first_day  last_day\n",
       "Date                                                                        \n",
       "2018-12-31 -0.005435  30184459.52  29.200633  13.443808      False      True\n",
       "2019-01-02 -0.009542  27898112.14  28.203741  13.109344       True     False\n",
       "2019-01-03 -0.024504  27898112.14  28.685572  13.664064      False     False"
      ]
     },
     "execution_count": 697,
     "metadata": {},
     "output_type": "execute_result"
    }
   ],
   "source": [
    "df_spread = example_spread_calculation(selected_pairs)\n",
    "df_spread[18:21]"
   ]
  },
  {
   "cell_type": "markdown",
   "metadata": {},
   "source": [
    "Let's execute the strategy for the first pair:"
   ]
  },
  {
   "cell_type": "code",
   "execution_count": 704,
   "metadata": {},
   "outputs": [
    {
     "data": {
      "image/png": "[encoded data removed]",
      "text/plain": [
       "<Figure size 432x288 with 1 Axes>"
      ]
     },
     "metadata": {
      "needs_background": "light"
     },
     "output_type": "display_data"
    }
   ],
   "source": [
    "list_of_pairs = list(selected_pairs['pair'])\n",
    "pnl, roi = trade_example_pair(list_of_pairs[0])"
   ]
  },
  {
   "cell_type": "markdown",
   "metadata": {},
   "source": [
    "As we can see, a trading strategy based on the pair OHI-SBRA (real state investment companies) doesn't perform well over the backtesting period, leading to a lost of $125.000 dollars and a return of investment of:"
   ]
  },
  {
   "cell_type": "code",
   "execution_count": 706,
   "metadata": {
    "scrolled": true
   },
   "outputs": [
    {
     "name": "stdout",
     "output_type": "stream",
     "text": [
      "-4.5%\n"
     ]
    }
   ],
   "source": [
    "print('{:.01%}'.format(roi))"
   ]
  },
  {
   "cell_type": "markdown",
   "metadata": {},
   "source": [
    "<br>\n",
    "\n",
    "#### 4.2 Code section: Implementing the spread trading strategy for all pairs\n",
    "\n",
    "<br>\n",
    "\n",
    "We are finally ready to apply our trading strategy to all pairs. We do this by iterating through our list of 50 pairs, keeping track of progress with a progress bar and saving all results. Note that in my computer the strategy takes about a second to run per pair.\n",
    "\n",
    "<br>"
   ]
  },
  {
   "cell_type": "code",
   "execution_count": 711,
   "metadata": {},
   "outputs": [
    {
     "data": {
      "application/vnd.jupyter.widget-view+json": {
       "model_id": "fe342aa3598942dd8e6f6cedc2f6dec7",
       "version_major": 2,
       "version_minor": 0
      },
      "text/plain": [
       "  0%|          | 0/50 [00:00<?, ?it/s]"
      ]
     },
     "metadata": {},
     "output_type": "display_data"
    },
    {
     "data": {
      "image/png": "[encoded data removed]",
      "text/plain": [
       "<Figure size 432x288 with 1 Axes>"
      ]
     },
     "metadata": {
      "needs_background": "light"
     },
     "output_type": "display_data"
    }
   ],
   "source": [
    "results, rois, capital = trade_all_pairs(list_of_pairs)\n",
    "number_of_trades = plot_all_pairs_pnl(results, pairs)"
   ]
  },
  {
   "cell_type": "markdown",
   "metadata": {},
   "source": [
    "<br>\n",
    "\n",
    "#### 5. Results of strategy and discussion\n",
    "\n",
    "<br>\n",
    "\n",
    "In this section we obtain and analyze results from our trading strategy, providing a brief discussion of possible variations that could be implemented.\n",
    "\n",
    "Let's start by looking at the total number of trades executed in the entire period.\n",
    "\n",
    "<br>"
   ]
  },
  {
   "cell_type": "code",
   "execution_count": 712,
   "metadata": {},
   "outputs": [
    {
     "name": "stdout",
     "output_type": "stream",
     "text": [
      "798\n"
     ]
    }
   ],
   "source": [
    "print(sum(number_of_trades))"
   ]
  },
  {
   "cell_type": "markdown",
   "metadata": {},
   "source": [
    "A total of 798 trades were executed in the period 2018-2019. Note that these are spread positions, so each one includes a long and a short position. \n",
    "\n",
    "<br>\n",
    "\n",
    "#### 5.1 Trading patterns and profit and loss"
   ]
  },
  {
   "cell_type": "markdown",
   "metadata": {},
   "source": [
    "<br>\n",
    "\n",
    "Let's take a look at the number of spread positions placed per pair.\n",
    "\n",
    "<br>"
   ]
  },
  {
   "cell_type": "code",
   "execution_count": 713,
   "metadata": {
    "scrolled": true
   },
   "outputs": [
    {
     "data": {
      "text/html": [
       "<div>\n",
       "<style scoped>\n",
       "    .dataframe tbody tr th:only-of-type {\n",
       "        vertical-align: middle;\n",
       "    }\n",
       "\n",
       "    .dataframe tbody tr th {\n",
       "        vertical-align: top;\n",
       "    }\n",
       "\n",
       "    .dataframe thead th {\n",
       "        text-align: right;\n",
       "    }\n",
       "</style>\n",
       "<table border=\"1\" class=\"dataframe\">\n",
       "  <thead>\n",
       "    <tr style=\"text-align: right;\">\n",
       "      <th></th>\n",
       "      <th>pair</th>\n",
       "      <th>pearson_corr</th>\n",
       "      <th>times traded</th>\n",
       "    </tr>\n",
       "  </thead>\n",
       "  <tbody>\n",
       "    <tr>\n",
       "      <th>13960</th>\n",
       "      <td>(OHI, SBRA)</td>\n",
       "      <td>0.893488</td>\n",
       "      <td>25</td>\n",
       "    </tr>\n",
       "    <tr>\n",
       "      <th>14547</th>\n",
       "      <td>(CPT, UDR)</td>\n",
       "      <td>0.892413</td>\n",
       "      <td>6</td>\n",
       "    </tr>\n",
       "    <tr>\n",
       "      <th>14806</th>\n",
       "      <td>(VIAC, VIACA)</td>\n",
       "      <td>0.891144</td>\n",
       "      <td>15</td>\n",
       "    </tr>\n",
       "    <tr>\n",
       "      <th>14747</th>\n",
       "      <td>(MLM, VMC)</td>\n",
       "      <td>0.887336</td>\n",
       "      <td>3</td>\n",
       "    </tr>\n",
       "    <tr>\n",
       "      <th>12966</th>\n",
       "      <td>(AKR, KRG)</td>\n",
       "      <td>0.882830</td>\n",
       "      <td>8</td>\n",
       "    </tr>\n",
       "    <tr>\n",
       "      <th>13959</th>\n",
       "      <td>(NNN, STOR)</td>\n",
       "      <td>0.874091</td>\n",
       "      <td>1</td>\n",
       "    </tr>\n",
       "    <tr>\n",
       "      <th>14726</th>\n",
       "      <td>(BRX, REG)</td>\n",
       "      <td>0.873674</td>\n",
       "      <td>15</td>\n",
       "    </tr>\n",
       "    <tr>\n",
       "      <th>11583</th>\n",
       "      <td>(INN, XHR)</td>\n",
       "      <td>0.864441</td>\n",
       "      <td>20</td>\n",
       "    </tr>\n",
       "    <tr>\n",
       "      <th>13604</th>\n",
       "      <td>(BDN, PGRE)</td>\n",
       "      <td>0.853241</td>\n",
       "      <td>14</td>\n",
       "    </tr>\n",
       "    <tr>\n",
       "      <th>11623</th>\n",
       "      <td>(PEB, XHR)</td>\n",
       "      <td>0.849437</td>\n",
       "      <td>8</td>\n",
       "    </tr>\n",
       "    <tr>\n",
       "      <th>11577</th>\n",
       "      <td>(INN, PEB)</td>\n",
       "      <td>0.848996</td>\n",
       "      <td>28</td>\n",
       "    </tr>\n",
       "    <tr>\n",
       "      <th>13600</th>\n",
       "      <td>(BDN, HPP)</td>\n",
       "      <td>0.848944</td>\n",
       "      <td>12</td>\n",
       "    </tr>\n",
       "    <tr>\n",
       "      <th>11570</th>\n",
       "      <td>(EGP, STAG)</td>\n",
       "      <td>0.838647</td>\n",
       "      <td>10</td>\n",
       "    </tr>\n",
       "    <tr>\n",
       "      <th>12957</th>\n",
       "      <td>(AAT, KRG)</td>\n",
       "      <td>0.832310</td>\n",
       "      <td>13</td>\n",
       "    </tr>\n",
       "    <tr>\n",
       "      <th>11608</th>\n",
       "      <td>(LXP, STAG)</td>\n",
       "      <td>0.827742</td>\n",
       "      <td>18</td>\n",
       "    </tr>\n",
       "    <tr>\n",
       "      <th>13615</th>\n",
       "      <td>(HPP, PGRE)</td>\n",
       "      <td>0.826965</td>\n",
       "      <td>7</td>\n",
       "    </tr>\n",
       "    <tr>\n",
       "      <th>11425</th>\n",
       "      <td>(GTY, MNR)</td>\n",
       "      <td>0.824670</td>\n",
       "      <td>7</td>\n",
       "    </tr>\n",
       "    <tr>\n",
       "      <th>11408</th>\n",
       "      <td>(GNL, GTY)</td>\n",
       "      <td>0.823007</td>\n",
       "      <td>22</td>\n",
       "    </tr>\n",
       "    <tr>\n",
       "      <th>14613</th>\n",
       "      <td>(ALE, IDA)</td>\n",
       "      <td>0.820400</td>\n",
       "      <td>21</td>\n",
       "    </tr>\n",
       "    <tr>\n",
       "      <th>11628</th>\n",
       "      <td>(ROIC, XHR)</td>\n",
       "      <td>0.818209</td>\n",
       "      <td>35</td>\n",
       "    </tr>\n",
       "    <tr>\n",
       "      <th>12953</th>\n",
       "      <td>(AAT, AKR)</td>\n",
       "      <td>0.817608</td>\n",
       "      <td>1</td>\n",
       "    </tr>\n",
       "    <tr>\n",
       "      <th>12962</th>\n",
       "      <td>(AAT, WRE)</td>\n",
       "      <td>0.811890</td>\n",
       "      <td>2</td>\n",
       "    </tr>\n",
       "    <tr>\n",
       "      <th>13603</th>\n",
       "      <td>(BDN, OFC)</td>\n",
       "      <td>0.808756</td>\n",
       "      <td>25</td>\n",
       "    </tr>\n",
       "    <tr>\n",
       "      <th>11578</th>\n",
       "      <td>(INN, ROIC)</td>\n",
       "      <td>0.805193</td>\n",
       "      <td>57</td>\n",
       "    </tr>\n",
       "    <tr>\n",
       "      <th>11564</th>\n",
       "      <td>(EGP, LXP)</td>\n",
       "      <td>0.804662</td>\n",
       "      <td>4</td>\n",
       "    </tr>\n",
       "    <tr>\n",
       "      <th>12997</th>\n",
       "      <td>(KRG, WRE)</td>\n",
       "      <td>0.795838</td>\n",
       "      <td>31</td>\n",
       "    </tr>\n",
       "    <tr>\n",
       "      <th>11418</th>\n",
       "      <td>(GNL, OLP)</td>\n",
       "      <td>0.788730</td>\n",
       "      <td>42</td>\n",
       "    </tr>\n",
       "    <tr>\n",
       "      <th>13949</th>\n",
       "      <td>(EPR, NNN)</td>\n",
       "      <td>0.787085</td>\n",
       "      <td>3</td>\n",
       "    </tr>\n",
       "    <tr>\n",
       "      <th>11528</th>\n",
       "      <td>(CXP, ROIC)</td>\n",
       "      <td>0.786125</td>\n",
       "      <td>1</td>\n",
       "    </tr>\n",
       "    <tr>\n",
       "      <th>14131</th>\n",
       "      <td>(FR, PDM)</td>\n",
       "      <td>0.784887</td>\n",
       "      <td>5</td>\n",
       "    </tr>\n",
       "    <tr>\n",
       "      <th>13614</th>\n",
       "      <td>(HPP, OFC)</td>\n",
       "      <td>0.784162</td>\n",
       "      <td>12</td>\n",
       "    </tr>\n",
       "    <tr>\n",
       "      <th>13958</th>\n",
       "      <td>(NNN, SBRA)</td>\n",
       "      <td>0.782005</td>\n",
       "      <td>7</td>\n",
       "    </tr>\n",
       "    <tr>\n",
       "      <th>11618</th>\n",
       "      <td>(PEB, ROIC)</td>\n",
       "      <td>0.779661</td>\n",
       "      <td>9</td>\n",
       "    </tr>\n",
       "    <tr>\n",
       "      <th>11321</th>\n",
       "      <td>(ADC, GTY)</td>\n",
       "      <td>0.778250</td>\n",
       "      <td>4</td>\n",
       "    </tr>\n",
       "    <tr>\n",
       "      <th>11625</th>\n",
       "      <td>(ROIC, SRC)</td>\n",
       "      <td>0.777887</td>\n",
       "      <td>20</td>\n",
       "    </tr>\n",
       "    <tr>\n",
       "      <th>13951</th>\n",
       "      <td>(EPR, SBRA)</td>\n",
       "      <td>0.774927</td>\n",
       "      <td>13</td>\n",
       "    </tr>\n",
       "    <tr>\n",
       "      <th>14787</th>\n",
       "      <td>(CR, KMT)</td>\n",
       "      <td>0.772728</td>\n",
       "      <td>17</td>\n",
       "    </tr>\n",
       "    <tr>\n",
       "      <th>13957</th>\n",
       "      <td>(NNN, OHI)</td>\n",
       "      <td>0.768286</td>\n",
       "      <td>10</td>\n",
       "    </tr>\n",
       "    <tr>\n",
       "      <th>11354</th>\n",
       "      <td>(BFS, GTY)</td>\n",
       "      <td>0.767528</td>\n",
       "      <td>3</td>\n",
       "    </tr>\n",
       "    <tr>\n",
       "      <th>12971</th>\n",
       "      <td>(AKR, WRE)</td>\n",
       "      <td>0.766084</td>\n",
       "      <td>29</td>\n",
       "    </tr>\n",
       "    <tr>\n",
       "      <th>11530</th>\n",
       "      <td>(CXP, SRC)</td>\n",
       "      <td>0.765578</td>\n",
       "      <td>41</td>\n",
       "    </tr>\n",
       "    <tr>\n",
       "      <th>11327</th>\n",
       "      <td>(ADC, MNR)</td>\n",
       "      <td>0.763164</td>\n",
       "      <td>12</td>\n",
       "    </tr>\n",
       "    <tr>\n",
       "      <th>13624</th>\n",
       "      <td>(OFC, PGRE)</td>\n",
       "      <td>0.759754</td>\n",
       "      <td>16</td>\n",
       "    </tr>\n",
       "    <tr>\n",
       "      <th>13942</th>\n",
       "      <td>(APLE, EPR)</td>\n",
       "      <td>0.756658</td>\n",
       "      <td>52</td>\n",
       "    </tr>\n",
       "    <tr>\n",
       "      <th>11414</th>\n",
       "      <td>(GNL, MNR)</td>\n",
       "      <td>0.754807</td>\n",
       "      <td>2</td>\n",
       "    </tr>\n",
       "    <tr>\n",
       "      <th>14140</th>\n",
       "      <td>(RLJ, RPAI)</td>\n",
       "      <td>0.750914</td>\n",
       "      <td>9</td>\n",
       "    </tr>\n",
       "    <tr>\n",
       "      <th>13962</th>\n",
       "      <td>(SBRA, STOR)</td>\n",
       "      <td>0.750242</td>\n",
       "      <td>30</td>\n",
       "    </tr>\n",
       "    <tr>\n",
       "      <th>13950</th>\n",
       "      <td>(EPR, OHI)</td>\n",
       "      <td>0.748926</td>\n",
       "      <td>12</td>\n",
       "    </tr>\n",
       "    <tr>\n",
       "      <th>11353</th>\n",
       "      <td>(BFS, GNL)</td>\n",
       "      <td>0.745360</td>\n",
       "      <td>9</td>\n",
       "    </tr>\n",
       "    <tr>\n",
       "      <th>11544</th>\n",
       "      <td>(DOC, SRC)</td>\n",
       "      <td>0.742877</td>\n",
       "      <td>32</td>\n",
       "    </tr>\n",
       "  </tbody>\n",
       "</table>\n",
       "</div>"
      ],
      "text/plain": [
       "                pair  pearson_corr  times traded\n",
       "13960    (OHI, SBRA)      0.893488            25\n",
       "14547     (CPT, UDR)      0.892413             6\n",
       "14806  (VIAC, VIACA)      0.891144            15\n",
       "14747     (MLM, VMC)      0.887336             3\n",
       "12966     (AKR, KRG)      0.882830             8\n",
       "13959    (NNN, STOR)      0.874091             1\n",
       "14726     (BRX, REG)      0.873674            15\n",
       "11583     (INN, XHR)      0.864441            20\n",
       "13604    (BDN, PGRE)      0.853241            14\n",
       "11623     (PEB, XHR)      0.849437             8\n",
       "11577     (INN, PEB)      0.848996            28\n",
       "13600     (BDN, HPP)      0.848944            12\n",
       "11570    (EGP, STAG)      0.838647            10\n",
       "12957     (AAT, KRG)      0.832310            13\n",
       "11608    (LXP, STAG)      0.827742            18\n",
       "13615    (HPP, PGRE)      0.826965             7\n",
       "11425     (GTY, MNR)      0.824670             7\n",
       "11408     (GNL, GTY)      0.823007            22\n",
       "14613     (ALE, IDA)      0.820400            21\n",
       "11628    (ROIC, XHR)      0.818209            35\n",
       "12953     (AAT, AKR)      0.817608             1\n",
       "12962     (AAT, WRE)      0.811890             2\n",
       "13603     (BDN, OFC)      0.808756            25\n",
       "11578    (INN, ROIC)      0.805193            57\n",
       "11564     (EGP, LXP)      0.804662             4\n",
       "12997     (KRG, WRE)      0.795838            31\n",
       "11418     (GNL, OLP)      0.788730            42\n",
       "13949     (EPR, NNN)      0.787085             3\n",
       "11528    (CXP, ROIC)      0.786125             1\n",
       "14131      (FR, PDM)      0.784887             5\n",
       "13614     (HPP, OFC)      0.784162            12\n",
       "13958    (NNN, SBRA)      0.782005             7\n",
       "11618    (PEB, ROIC)      0.779661             9\n",
       "11321     (ADC, GTY)      0.778250             4\n",
       "11625    (ROIC, SRC)      0.777887            20\n",
       "13951    (EPR, SBRA)      0.774927            13\n",
       "14787      (CR, KMT)      0.772728            17\n",
       "13957     (NNN, OHI)      0.768286            10\n",
       "11354     (BFS, GTY)      0.767528             3\n",
       "12971     (AKR, WRE)      0.766084            29\n",
       "11530     (CXP, SRC)      0.765578            41\n",
       "11327     (ADC, MNR)      0.763164            12\n",
       "13624    (OFC, PGRE)      0.759754            16\n",
       "13942    (APLE, EPR)      0.756658            52\n",
       "11414     (GNL, MNR)      0.754807             2\n",
       "14140    (RLJ, RPAI)      0.750914             9\n",
       "13962   (SBRA, STOR)      0.750242            30\n",
       "13950     (EPR, OHI)      0.748926            12\n",
       "11353     (BFS, GNL)      0.745360             9\n",
       "11544     (DOC, SRC)      0.742877            32"
      ]
     },
     "execution_count": 713,
     "metadata": {},
     "output_type": "execute_result"
    }
   ],
   "source": [
    "selected_pairs['times traded'] = number_of_trades\n",
    "selected_pairs"
   ]
  },
  {
   "cell_type": "markdown",
   "metadata": {},
   "source": [
    "We can see that we are trading each pair a considerable amount of time during the two years in which we backtest the strategy. Let's take a look at some descriptive statistics about the trading behavior:"
   ]
  },
  {
   "cell_type": "code",
   "execution_count": 714,
   "metadata": {
    "scrolled": true
   },
   "outputs": [
    {
     "data": {
      "text/html": [
       "<div>\n",
       "<style scoped>\n",
       "    .dataframe tbody tr th:only-of-type {\n",
       "        vertical-align: middle;\n",
       "    }\n",
       "\n",
       "    .dataframe tbody tr th {\n",
       "        vertical-align: top;\n",
       "    }\n",
       "\n",
       "    .dataframe thead th {\n",
       "        text-align: right;\n",
       "    }\n",
       "</style>\n",
       "<table border=\"1\" class=\"dataframe\">\n",
       "  <thead>\n",
       "    <tr style=\"text-align: right;\">\n",
       "      <th></th>\n",
       "      <th>pearson_corr</th>\n",
       "      <th>times traded</th>\n",
       "    </tr>\n",
       "  </thead>\n",
       "  <tbody>\n",
       "    <tr>\n",
       "      <th>count</th>\n",
       "      <td>50.000000</td>\n",
       "      <td>50.000000</td>\n",
       "    </tr>\n",
       "    <tr>\n",
       "      <th>mean</th>\n",
       "      <td>0.807051</td>\n",
       "      <td>15.960000</td>\n",
       "    </tr>\n",
       "    <tr>\n",
       "      <th>std</th>\n",
       "      <td>0.044795</td>\n",
       "      <td>13.286421</td>\n",
       "    </tr>\n",
       "    <tr>\n",
       "      <th>min</th>\n",
       "      <td>0.742877</td>\n",
       "      <td>1.000000</td>\n",
       "    </tr>\n",
       "    <tr>\n",
       "      <th>25%</th>\n",
       "      <td>0.769397</td>\n",
       "      <td>7.000000</td>\n",
       "    </tr>\n",
       "    <tr>\n",
       "      <th>50%</th>\n",
       "      <td>0.800250</td>\n",
       "      <td>12.000000</td>\n",
       "    </tr>\n",
       "    <tr>\n",
       "      <th>75%</th>\n",
       "      <td>0.837063</td>\n",
       "      <td>21.750000</td>\n",
       "    </tr>\n",
       "    <tr>\n",
       "      <th>max</th>\n",
       "      <td>0.893488</td>\n",
       "      <td>57.000000</td>\n",
       "    </tr>\n",
       "  </tbody>\n",
       "</table>\n",
       "</div>"
      ],
      "text/plain": [
       "       pearson_corr  times traded\n",
       "count     50.000000     50.000000\n",
       "mean       0.807051     15.960000\n",
       "std        0.044795     13.286421\n",
       "min        0.742877      1.000000\n",
       "25%        0.769397      7.000000\n",
       "50%        0.800250     12.000000\n",
       "75%        0.837063     21.750000\n",
       "max        0.893488     57.000000"
      ]
     },
     "execution_count": 714,
     "metadata": {},
     "output_type": "execute_result"
    }
   ],
   "source": [
    "selected_pairs.describe()"
   ]
  },
  {
   "cell_type": "markdown",
   "metadata": {},
   "source": [
    "We can see that on average we are trading each pair almost 16 times. On the pair we trade the least amount of times we only take 1 position, which happens for the pair (NNN, STOR), and the pair we trade the most is (INN, ROIC), which we trade a total of 57 times.\n",
    "\n",
    "Now we can look at how many trades we have open at the same time:\n",
    "\n",
    "<br>"
   ]
  },
  {
   "cell_type": "code",
   "execution_count": 716,
   "metadata": {},
   "outputs": [
    {
     "data": {
      "image/png": "[encoded data removed]",
      "text/plain": [
       "<Figure size 432x288 with 1 Axes>"
      ]
     },
     "metadata": {
      "needs_background": "light"
     },
     "output_type": "display_data"
    }
   ],
   "source": [
    "open_trades = count_and_plot_open_trades(results, list_of_pairs)"
   ]
  },
  {
   "cell_type": "code",
   "execution_count": 717,
   "metadata": {},
   "outputs": [
    {
     "data": {
      "text/plain": [
       "27.385375494071145"
      ]
     },
     "execution_count": 717,
     "metadata": {},
     "output_type": "execute_result"
    }
   ],
   "source": [
    "open_trades.sum(axis=1).mean()"
   ]
  },
  {
   "cell_type": "markdown",
   "metadata": {},
   "source": [
    "It is interesting to see that our average number of opened spread positions is slightly above 27, which means that on a random day we are holding positions (either long or short) on over 54 equities on average. \n",
    "\n",
    "Let's take a look at the most important result of the strategy, that is, the aggregated profit and loss:\n",
    "\n",
    "<br>"
   ]
  },
  {
   "cell_type": "code",
   "execution_count": 718,
   "metadata": {},
   "outputs": [
    {
     "data": {
      "image/png": "[encoded data removed]",
      "text/plain": [
       "<Figure size 432x288 with 1 Axes>"
      ]
     },
     "metadata": {
      "needs_background": "light"
     },
     "output_type": "display_data"
    }
   ],
   "source": [
    "total_pnl = calculate_total_daily_pnl(results, list_of_pairs)"
   ]
  },
  {
   "cell_type": "code",
   "execution_count": 723,
   "metadata": {
    "scrolled": true
   },
   "outputs": [
    {
     "data": {
      "image/png": "[encoded data removed]",
      "text/plain": [
       "<Figure size 432x288 with 1 Axes>"
      ]
     },
     "metadata": {
      "needs_background": "light"
     },
     "output_type": "display_data"
    }
   ],
   "source": [
    "aggregated_pnl = get_aggregated_pnl(total_pnl)"
   ]
  },
  {
   "cell_type": "markdown",
   "metadata": {},
   "source": [
    "Let's take a look at the total profit from each pair during the whole backtesting period."
   ]
  },
  {
   "cell_type": "code",
   "execution_count": 737,
   "metadata": {
    "scrolled": true
   },
   "outputs": [
    {
     "data": {
      "image/png": "[encoded data removed]",
      "text/plain": [
       "<Figure size 432x288 with 1 Axes>"
      ]
     },
     "metadata": {
      "needs_background": "light"
     },
     "output_type": "display_data"
    }
   ],
   "source": [
    "total_pnl = scatter_pnl(results)"
   ]
  },
  {
   "cell_type": "code",
   "execution_count": 749,
   "metadata": {
    "scrolled": true
   },
   "outputs": [
    {
     "data": {
      "image/png": "[encoded data removed]",
      "text/plain": [
       "<Figure size 432x288 with 1 Axes>"
      ]
     },
     "metadata": {
      "needs_background": "light"
     },
     "output_type": "display_data"
    }
   ],
   "source": [
    "total_roi = scatter_roi(rois)"
   ]
  },
  {
   "cell_type": "markdown",
   "metadata": {},
   "source": [
    "We can count the amount of pairs that are profitable and unprofitable, obtaining that 20 pairs are profitable during the period and 30 are unprofitable."
   ]
  },
  {
   "cell_type": "code",
   "execution_count": 738,
   "metadata": {},
   "outputs": [
    {
     "name": "stdout",
     "output_type": "stream",
     "text": [
      "20\n"
     ]
    }
   ],
   "source": [
    "print(count_profitable_pairs(total_pnl))"
   ]
  },
  {
   "cell_type": "code",
   "execution_count": 769,
   "metadata": {},
   "outputs": [
    {
     "name": "stdout",
     "output_type": "stream",
     "text": [
      "Pair with minimum ROI achieved a ROI of: -56.934469481792604\n"
     ]
    }
   ],
   "source": [
    "print('Pair with minimum ROI achieved a ROI of: ' + str(min(rois)))"
   ]
  },
  {
   "cell_type": "code",
   "execution_count": 770,
   "metadata": {},
   "outputs": [
    {
     "name": "stdout",
     "output_type": "stream",
     "text": [
      "Pair with maximum ROI achieved a ROI of: 138.930396725871\n"
     ]
    }
   ],
   "source": [
    "print('Pair with maximum ROI achieved a ROI of: ' + str(max(rois)))"
   ]
  },
  {
   "cell_type": "markdown",
   "metadata": {},
   "source": [
    "Regarding return on investment, we calculate the average among our 50 pairs. The average return on investment is 6.126% during our backtesting period."
   ]
  },
  {
   "cell_type": "code",
   "execution_count": 754,
   "metadata": {},
   "outputs": [
    {
     "data": {
      "text/plain": [
       "6.12596003929468"
      ]
     },
     "execution_count": 754,
     "metadata": {},
     "output_type": "execute_result"
    }
   ],
   "source": [
    "sum(total_roi)/len(total_roi)"
   ]
  },
  {
   "cell_type": "markdown",
   "metadata": {},
   "source": [
    "#### 5.2 Code section: Total daily returns of strategy, sharpe ratio and comparison to Fama-french factor returns"
   ]
  },
  {
   "cell_type": "markdown",
   "metadata": {},
   "source": [
    "We add the initial capital to the strategy to calculate overall returns and get more useful performance metrics.\n",
    "\n",
    "We start by looking at the returns of the strategy during a few days."
   ]
  },
  {
   "cell_type": "code",
   "execution_count": 725,
   "metadata": {},
   "outputs": [
    {
     "data": {
      "text/html": [
       "<div>\n",
       "<style scoped>\n",
       "    .dataframe tbody tr th:only-of-type {\n",
       "        vertical-align: middle;\n",
       "    }\n",
       "\n",
       "    .dataframe tbody tr th {\n",
       "        vertical-align: top;\n",
       "    }\n",
       "\n",
       "    .dataframe thead th {\n",
       "        text-align: right;\n",
       "    }\n",
       "</style>\n",
       "<table border=\"1\" class=\"dataframe\">\n",
       "  <thead>\n",
       "    <tr style=\"text-align: right;\">\n",
       "      <th></th>\n",
       "      <th>Strategy Returns</th>\n",
       "    </tr>\n",
       "  </thead>\n",
       "  <tbody>\n",
       "    <tr>\n",
       "      <th>5</th>\n",
       "      <td>-0.008441</td>\n",
       "    </tr>\n",
       "    <tr>\n",
       "      <th>6</th>\n",
       "      <td>0.000310</td>\n",
       "    </tr>\n",
       "    <tr>\n",
       "      <th>7</th>\n",
       "      <td>-0.007825</td>\n",
       "    </tr>\n",
       "    <tr>\n",
       "      <th>8</th>\n",
       "      <td>-0.000111</td>\n",
       "    </tr>\n",
       "  </tbody>\n",
       "</table>\n",
       "</div>"
      ],
      "text/plain": [
       "   Strategy Returns\n",
       "5         -0.008441\n",
       "6          0.000310\n",
       "7         -0.007825\n",
       "8         -0.000111"
      ]
     },
     "execution_count": 725,
     "metadata": {},
     "output_type": "execute_result"
    }
   ],
   "source": [
    "df_returns = get_strategy_returns(new_list, capital)\n",
    "df_returns[5:9]"
   ]
  },
  {
   "cell_type": "markdown",
   "metadata": {},
   "source": [
    "Let's also take a look at summary statistics, including annualized return, skewness, kurtosis, cornish-fisher approximation, sharpe ratio, and maximum drawdawn."
   ]
  },
  {
   "cell_type": "code",
   "execution_count": 726,
   "metadata": {
    "scrolled": true
   },
   "outputs": [
    {
     "data": {
      "text/html": [
       "<div>\n",
       "<style scoped>\n",
       "    .dataframe tbody tr th:only-of-type {\n",
       "        vertical-align: middle;\n",
       "    }\n",
       "\n",
       "    .dataframe tbody tr th {\n",
       "        vertical-align: top;\n",
       "    }\n",
       "\n",
       "    .dataframe thead th {\n",
       "        text-align: right;\n",
       "    }\n",
       "</style>\n",
       "<table border=\"1\" class=\"dataframe\">\n",
       "  <thead>\n",
       "    <tr style=\"text-align: right;\">\n",
       "      <th></th>\n",
       "      <th>Annualized Return</th>\n",
       "      <th>Annualized Vol</th>\n",
       "      <th>Skewness</th>\n",
       "      <th>Kurtosis</th>\n",
       "      <th>Cornish-Fisher VaR (5%)</th>\n",
       "      <th>Historic CVaR (5%)</th>\n",
       "      <th>Sharpe Ratio</th>\n",
       "      <th>Max Drawdown</th>\n",
       "    </tr>\n",
       "  </thead>\n",
       "  <tbody>\n",
       "    <tr>\n",
       "      <th>Strategy Returns</th>\n",
       "      <td>0.011132</td>\n",
       "      <td>0.746359</td>\n",
       "      <td>6.798316</td>\n",
       "      <td>111.823205</td>\n",
       "      <td>-0.158441</td>\n",
       "      <td>0.078679</td>\n",
       "      <td>-0.024505</td>\n",
       "      <td>-0.551891</td>\n",
       "    </tr>\n",
       "  </tbody>\n",
       "</table>\n",
       "</div>"
      ],
      "text/plain": [
       "                  Annualized Return  Annualized Vol  Skewness    Kurtosis  \\\n",
       "Strategy Returns           0.011132        0.746359  6.798316  111.823205   \n",
       "\n",
       "                  Cornish-Fisher VaR (5%)  Historic CVaR (5%)  Sharpe Ratio  \\\n",
       "Strategy Returns                -0.158441            0.078679     -0.024505   \n",
       "\n",
       "                  Max Drawdown  \n",
       "Strategy Returns     -0.551891  "
      ]
     },
     "execution_count": 726,
     "metadata": {},
     "output_type": "execute_result"
    }
   ],
   "source": [
    "summary_stats(df_returns)"
   ]
  },
  {
   "cell_type": "markdown",
   "metadata": {},
   "source": [
    "#### 5.1 Comparison with Fama-French factor returns\n",
    "\n",
    "<br>\n",
    "\n",
    "We obtain Fama-French factor returns during the same period of our backtest to compare with our strategy.\n",
    "\n"
   ]
  },
  {
   "cell_type": "code",
   "execution_count": 727,
   "metadata": {},
   "outputs": [
    {
     "name": "stdout",
     "output_type": "stream",
     "text": [
      "                            OLS Regression Results                            \n",
      "==============================================================================\n",
      "Dep. Variable:                      y   R-squared:                       0.378\n",
      "Model:                            OLS   Adj. R-squared:                  0.375\n",
      "Method:                 Least Squares   F-statistic:                     101.7\n",
      "Date:                Sun, 30 May 2021   Prob (F-statistic):           2.08e-51\n",
      "Time:                        02:23:28   Log-Likelihood:                -1844.5\n",
      "No. Observations:                 505   AIC:                             3697.\n",
      "Df Residuals:                     501   BIC:                             3714.\n",
      "Df Model:                           3                                         \n",
      "Covariance Type:            nonrobust                                         \n",
      "==============================================================================\n",
      "                 coef    std err          t      P>|t|      [0.025      0.975]\n",
      "------------------------------------------------------------------------------\n",
      "const          0.5977      0.420      1.425      0.155      -0.227       1.422\n",
      "Mkt-RF        -4.2348      0.263    -16.122      0.000      -4.751      -3.719\n",
      "SMB            0.5981      0.611      0.979      0.328      -0.602       1.799\n",
      "HML           -0.9905      0.364     -2.721      0.007      -1.706      -0.275\n",
      "==============================================================================\n",
      "Omnibus:                      465.399   Durbin-Watson:                   2.053\n",
      "Prob(Omnibus):                  0.000   Jarque-Bera (JB):           111269.672\n",
      "Skew:                           3.197   Prob(JB):                         0.00\n",
      "Kurtosis:                      75.437   Cond. No.                         2.53\n",
      "==============================================================================\n",
      "\n",
      "Notes:\n",
      "[1] Standard Errors assume that the covariance matrix of the errors is correctly specified.\n"
     ]
    }
   ],
   "source": [
    "ols_res = ols_regression_ff(df_returns)"
   ]
  },
  {
   "cell_type": "markdown",
   "metadata": {},
   "source": [
    "Inferences from the regression:\n",
    ">- Alpha is negative with annualized returns of 0.01.\n",
    ">- Beta is negative for Market portfolio. Based on the p-value, we can reject the null hypothesis that this factor loading is 0 at 1%.\n",
    ">- We can reject the null hypothesis that the factor High minus low is zero as the value premium has a negative correlation with our strategy.\n",
    ">- The strategy has no or little correlation with small caps, as we can not reject the null hypothesis that this factor is different from zero. "
   ]
  },
  {
   "cell_type": "markdown",
   "metadata": {},
   "source": [
    "<br>\n",
    "\n",
    "#### 6. Conclusion\n",
    "\n",
    "<br>\n",
    "\n",
    "In this paper we attempted to extend the results of Gatev et al (2006) by implementing a pairs trading strategy. In line with some of the modern literature on machine learning methods for pairs trading that uses DBSCAN or PCA as Sarmento & Horta (2020). We applied K-means clustering to form groups of similar stocks by taking all the stocks from the NASDAQ and the NYSE, gathering a combination of fundamental and returns data, and applying the algorithm to form 1000 clusters from a group of 2358 stocks. Within each cluster of stocks, we formed all possible combination of pairs, obtaining 14,838 pairs. We ranked all of them according to the Pearson coefficient of their stocks and selected the 50 pairs with higher coefficients after dropping pairs that were almost identical. This last step is in line with work by Chen et al. (2019).\n",
    "\n",
    "Our strategy selected pairs heavily concentrated in real state investments and produced barely profitable results during the two-year period in which we analyzed it. We calculated the sharpe ratio of the overall strategy, obtaining a negative value of -0.025 and annualized returns of 1.1%. Out of the 50 considered pairs, 20 produced positive returns, and average return on investment per pair was 6.1%. Average total profit per pair was $3.759. \n",
    "\n",
    "We stayed within our capital constraints at all times and only traded a small volume of the daily total for each equity. To achieve this, we followed the approach from the FINM 33150 Spread Trading assignment, computing the 15-trading-day median of daily dollar volume for the least liquid equity in each pair, $N_t$, and traded and amount equal to $N_t$ each time that our trading signal was triggered. The amount of trading incurred in our strategy was significant, averaging slightly above 27 open spread positions each day.\n",
    "\n",
    "Given the low yearly returns and high drawdown of -55\\% of our strategy, we can not recommend it for investment at the moment. The pairs selected by the strategy, although on average obtained positive returns, are not ideal as some of them incurred on excessive negative returns due to having higher traded volumes. The range of returns on our investments considering our 50 pairs were between -57\\% to 139\\%.\n",
    "\n",
    "As future lines of research, we suggest adding more sources of alternative data to study the variation in pair selection achieved by K-means clustering, as well as considering more parameter values in order to optimize the threshold values for taking a short and long position, and the threshold value for closing positions."
   ]
  },
  {
   "cell_type": "markdown",
   "metadata": {},
   "source": [
    "<br>\n",
    "\n",
    "#### 7. References\n",
    "\n",
    "<br>\n",
    "\n",
    "Gatev, E., Goetzmann, W. N., & Rouwenhorst, K. G. (2006). Pairs trading: Performance of a relative-value arbitrage rule. The Review of Financial Studies, 19(3), 797-827.\n",
    "\n",
    "<br>\n",
    "\n",
    "Sarmento, S. M., & Horta, N. (2020). Enhancing a Pairs Trading strategy with the application of Machine Learning. Expert Systems with Applications, 158, 113490.\n",
    "\n",
    "<br>\n",
    "\n",
    "Navghare, N. D., Kulkarni, H. P., Kedar, P. R., Thakre, S. A., & Patil, P. S. (2020, July). Design of Pipeline Framework for Pair Trading Algorithm. In 2020 Second International Conference on Inventive Research in Computing Applications (ICIRCA) (pp. 630-635). IEEE.\n",
    "\n",
    "<br>\n",
    "\n",
    "Ingersoll, J. E. (1987). Theory of financial decision making (Vol. 3). Rowman & Littlefield.\n",
    "\n",
    "<br>\n",
    "\n",
    "Chen, H., Chen, S., Chen, Z., & Li, F. (2019). Empirical investigation of an equity pairs trading strategy. Management Science, 65(1), 370-389.\n"
   ]
  }
 ],
 "metadata": {
  "kernelspec": {
   "display_name": "Python 3",
   "language": "python",
   "name": "python3"
  },
  "language_info": {
   "codemirror_mode": {
    "name": "ipython",
    "version": 3
   },
   "file_extension": ".py",
   "mimetype": "text/x-python",
   "name": "python",
   "nbconvert_exporter": "python",
   "pygments_lexer": "ipython3",
   "version": "3.8.5"
  }
 },
 "nbformat": 4,
 "nbformat_minor": 4
}
